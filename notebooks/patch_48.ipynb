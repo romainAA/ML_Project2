{
 "cells": [
  {
   "cell_type": "code",
   "execution_count": 1,
   "metadata": {},
   "outputs": [],
   "source": [
    "import sys\n",
    "if '..' not in sys.path:\n",
    "    sys.path.append('..')\n",
    "else:\n",
    "    print(\"already in\")\n",
    "from src import *"
   ]
  },
  {
   "cell_type": "code",
   "execution_count": 2,
   "metadata": {},
   "outputs": [],
   "source": [
    "%matplotlib inline\n",
    "%load_ext autoreload\n",
    "%autoreload 2"
   ]
  },
  {
   "cell_type": "code",
   "execution_count": 166,
   "metadata": {
    "collapsed": true
   },
   "outputs": [],
   "source": [
    "import keras"
   ]
  },
  {
   "cell_type": "code",
   "execution_count": 315,
   "metadata": {},
   "outputs": [],
   "source": [
    "from src.reader.patch_creator import load_from_file\n",
    "from src.tools.train import train_model\n",
    "from src.classification import patches_48 as net\n",
    "from src.classification import classify as classifier"
   ]
  },
  {
   "cell_type": "code",
   "execution_count": 164,
   "metadata": {
    "collapsed": true
   },
   "outputs": [],
   "source": [
    "imgs, gts, labels = load_from_file('../data/patches_48/data.npz')"
   ]
  },
  {
   "cell_type": "code",
   "execution_count": 167,
   "metadata": {},
   "outputs": [],
   "source": [
    "llabels = keras.utils.to_categorical(labels)"
   ]
  },
  {
   "cell_type": "code",
   "execution_count": 316,
   "metadata": {
    "collapsed": true
   },
   "outputs": [],
   "source": [
    "model = net.Net()"
   ]
  },
  {
   "cell_type": "code",
   "execution_count": 317,
   "metadata": {},
   "outputs": [
    {
     "data": {
      "text/plain": [
       "<keras.models.Sequential at 0x7f3f6c6baac8>"
      ]
     },
     "execution_count": 317,
     "metadata": {},
     "output_type": "execute_result"
    }
   ],
   "source": [
    "model.build()"
   ]
  },
  {
   "cell_type": "code",
   "execution_count": 318,
   "metadata": {},
   "outputs": [
    {
     "data": {
      "text/plain": [
       "<keras.models.Sequential at 0x7f3f6c6baac8>"
      ]
     },
     "execution_count": 318,
     "metadata": {},
     "output_type": "execute_result"
    }
   ],
   "source": [
    "model.compile(1)"
   ]
  },
  {
   "cell_type": "code",
   "execution_count": 330,
   "metadata": {},
   "outputs": [
    {
     "data": {
      "text/plain": [
       "<keras.models.Sequential at 0x7f3f6c6baac8>"
      ]
     },
     "execution_count": 330,
     "metadata": {},
     "output_type": "execute_result"
    }
   ],
   "source": [
    "model.change_lr(1e-2)"
   ]
  },
  {
   "cell_type": "code",
   "execution_count": 333,
   "metadata": {},
   "outputs": [
    {
     "name": "stdout",
     "output_type": "stream",
     "text": [
      "Train on 20250 samples, validate on 2250 samples\n",
      "Epoch 1/10\n",
      "20250/20250 [==============================] - 10s 510us/step - loss: 0.0214 - acc: 0.9926 - val_loss: 0.8359 - val_acc: 0.8338\n",
      "Epoch 2/10\n",
      "20250/20250 [==============================] - 10s 507us/step - loss: 0.0205 - acc: 0.9930 - val_loss: 0.8438 - val_acc: 0.8307\n",
      "Epoch 3/10\n",
      "20250/20250 [==============================] - 10s 505us/step - loss: 0.0215 - acc: 0.9924 - val_loss: 0.8475 - val_acc: 0.8316\n",
      "Epoch 4/10\n",
      "20250/20250 [==============================] - 10s 506us/step - loss: 0.0247 - acc: 0.9911 - val_loss: 0.8511 - val_acc: 0.8311\n",
      "Epoch 5/10\n",
      "20250/20250 [==============================] - 10s 506us/step - loss: 0.0209 - acc: 0.9931 - val_loss: 0.8446 - val_acc: 0.8320\n",
      "Epoch 6/10\n",
      "20250/20250 [==============================] - 10s 508us/step - loss: 0.0208 - acc: 0.9928 - val_loss: 0.8476 - val_acc: 0.8320\n",
      "Epoch 7/10\n",
      "20250/20250 [==============================] - 10s 509us/step - loss: 0.0231 - acc: 0.9920 - val_loss: 0.8514 - val_acc: 0.8320\n",
      "Epoch 8/10\n",
      "20250/20250 [==============================] - 10s 510us/step - loss: 0.0233 - acc: 0.9918 - val_loss: 0.8447 - val_acc: 0.8329\n",
      "Epoch 9/10\n",
      "20250/20250 [==============================] - 10s 511us/step - loss: 0.0242 - acc: 0.9916 - val_loss: 0.8494 - val_acc: 0.8316\n",
      "Epoch 10/10\n",
      "20250/20250 [==============================] - 10s 514us/step - loss: 0.0224 - acc: 0.9922 - val_loss: 0.8429 - val_acc: 0.8347\n"
     ]
    }
   ],
   "source": [
    "model.train(imgs, llabels, PROJECT + \"results/patches_48/\", nb_epoch=10, batch_size=64)"
   ]
  },
  {
   "cell_type": "code",
   "execution_count": 334,
   "metadata": {},
   "outputs": [
    {
     "name": "stdout",
     "output_type": "stream",
     "text": [
      "DONE\n",
      "\n"
     ]
    }
   ],
   "source": [
    "classifier.submit(model, '../data/test_set_images/', '../data/submission_patches_48.csv')"
   ]
  }
 ],
 "metadata": {
  "kernelspec": {
   "display_name": "Python 3",
   "language": "python",
   "name": "python3"
  },
  "language_info": {
   "codemirror_mode": {
    "name": "ipython",
    "version": 3
   },
   "file_extension": ".py",
   "mimetype": "text/x-python",
   "name": "python",
   "nbconvert_exporter": "python",
   "pygments_lexer": "ipython3",
   "version": "3.6.3"
  }
 },
 "nbformat": 4,
 "nbformat_minor": 2
}
